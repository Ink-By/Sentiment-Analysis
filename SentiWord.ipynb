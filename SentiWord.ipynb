{
 "cells": [
  {
   "cell_type": "code",
   "execution_count": 6,
   "metadata": {},
   "outputs": [
    {
     "ename": "ModuleNotFoundError",
     "evalue": "No module named 'konlpy'",
     "output_type": "error",
     "traceback": [
      "\u001b[0;31m---------------------------------------------------------------------------\u001b[0m",
      "\u001b[0;31mModuleNotFoundError\u001b[0m                       Traceback (most recent call last)",
      "Cell \u001b[0;32mIn[6], line 2\u001b[0m\n\u001b[1;32m      1\u001b[0m \u001b[38;5;28;01mimport\u001b[39;00m \u001b[38;5;21;01mpandas\u001b[39;00m \u001b[38;5;28;01mas\u001b[39;00m \u001b[38;5;21;01mpd\u001b[39;00m\n\u001b[0;32m----> 2\u001b[0m \u001b[38;5;28;01mfrom\u001b[39;00m \u001b[38;5;21;01mkonlpy\u001b[39;00m\u001b[38;5;21;01m.\u001b[39;00m\u001b[38;5;21;01mtag\u001b[39;00m \u001b[38;5;28;01mimport\u001b[39;00m Okt\n",
      "\u001b[0;31mModuleNotFoundError\u001b[0m: No module named 'konlpy'"
     ]
    }
   ],
   "source": [
    "import pandas as pd\n",
    "from konlpy.tag import Okt\n"
   ]
  },
  {
   "cell_type": "code",
   "execution_count": null,
   "metadata": {},
   "outputs": [],
   "source": [
    "\n",
    "# 형태소 분석기 초기화\n",
    "okt = Okt()\n",
    "\n",
    "# SentiWord_Dict.txt 파일 읽기\n",
    "def load_sentiword_dict(filepath):\n",
    "    sentiword_dict = {}\n",
    "    with open(filepath, 'r', encoding='utf-8') as f:\n",
    "        for line in f:\n",
    "            word, score = line.strip().split()\n",
    "            sentiword_dict[word] = int(score)\n",
    "    return sentiword_dict\n",
    "\n",
    "# 감성 점수 계산 함수\n",
    "def calculate_sentiment_score(text, sentiword_dict):\n",
    "    tokens = okt.morphs(text)\n",
    "    score = 0\n",
    "    for token in tokens:\n",
    "        if token in sentiword_dict:\n",
    "            score += sentiword_dict[token]\n",
    "    return score\n",
    "\n",
    "# SentiWord_Dict.txt 파일 경로\n",
    "filepath = './datasets/SentiWord_Dict.txt'\n",
    "sentiword_dict = load_sentiword_dict(filepath)\n",
    "\n",
    "# 리뷰 데이터 예제\n",
    "reviews = [\n",
    "    \"게임이 정말 재미있습니다. 캐릭터 디자인이 아주 마음에 들어요. 😊\",\n",
    "    \"업데이트 이후에 버그가 너무 많아졌어요. 그래픽은 좋은데 플레이하기 힘들어요. 😑\",\n",
    "    \"스토리가 너무 감동적이에요. 유저 인터페이스도 편리하고 좋아요. 💜\",\n",
    "    \"이 게임은 정말 갓겜입니다! 혜자게임이에요.\",\n",
    "    \"정말 지루하고 짜증나는 게임이네요. 망겜입니다.\"\n",
    "]\n",
    "\n",
    "# 각 리뷰에 대해 감성 점수 계산\n",
    "review_scores = [(review, calculate_sentiment_score(review, sentiword_dict)) for review in reviews]\n",
    "\n",
    "# 결과 출력\n",
    "for review, score in review_scores:\n",
    "    print(f\"Review: {review}\\nSentiment Score: {score}\\n\")\n"
   ]
  }
 ],
 "metadata": {
  "kernelspec": {
   "display_name": "base",
   "language": "python",
   "name": "python3"
  },
  "language_info": {
   "codemirror_mode": {
    "name": "ipython",
    "version": 3
   },
   "file_extension": ".py",
   "mimetype": "text/x-python",
   "name": "python",
   "nbconvert_exporter": "python",
   "pygments_lexer": "ipython3",
   "version": "3.8.19"
  }
 },
 "nbformat": 4,
 "nbformat_minor": 2
}
